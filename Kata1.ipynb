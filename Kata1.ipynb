{
 "cells": [
  {
   "cell_type": "markdown",
   "metadata": {},
   "source": [
    "## Kata 1"
   ]
  },
  {
   "cell_type": "code",
   "execution_count": 1,
   "metadata": {},
   "outputs": [
    {
     "name": "stdout",
     "output_type": "stream",
     "text": [
      "--Oficial superior--\n",
      "¿Cadete Pérez?\n",
      "--Yo--\n",
      "¿Sí,señora?\n",
      "--Oficial superior--\n",
      "¿Puedes construir un programa que me muestre la fecha? La computadora del barco no venía con mucho en términos de programas de utilidad, por lo que necesitamos crear los que necesitamos. ¿Puedo confiar en ti con esto?\n",
      "--Yo--\n",
      "Considéralo hecho.\n",
      "--Oficial superior--\n",
      "Excelente.\n"
     ]
    }
   ],
   "source": [
    "print(\"--Oficial superior--\")\n",
    "print(\"¿Cadete Pérez?\")\n",
    "print(\"--Yo--\")\n",
    "print(\"¿Sí,señora?\")\n",
    "print(\"--Oficial superior--\")\n",
    "print(\"¿Puedes construir un programa que me muestre la fecha? La computadora del barco no venía con mucho en términos de programas de utilidad, por lo que necesitamos crear los que necesitamos. ¿Puedo confiar en ti con esto?\")\n",
    "print(\"--Yo--\")\n",
    "print(\"Considéralo hecho.\")\n",
    "print(\"--Oficial superior--\")\n",
    "print(\"Excelente.\")"
   ]
  },
  {
   "cell_type": "code",
   "execution_count": 2,
   "metadata": {},
   "outputs": [
    {
     "name": "stdout",
     "output_type": "stream",
     "text": [
      "Hoy es: 2022-02-18\n"
     ]
    }
   ],
   "source": [
    "from datetime import date\n",
    "date.today()\n",
    "print(\"Hoy es: \" + str(date.today()))\n"
   ]
  },
  {
   "cell_type": "code",
   "execution_count": 3,
   "metadata": {},
   "outputs": [
    {
     "name": "stdout",
     "output_type": "stream",
     "text": [
      "13 parsec, es: 42.400279999999995 años luz\n"
     ]
    }
   ],
   "source": [
    "parsec = input()\n",
    "\n",
    "años_luz = 3.26156 * int(parsec)\n",
    "\n",
    "print(str(parsec) + \" parsec, es: \" + str(años_luz) + \" años luz\")"
   ]
  }
 ],
 "metadata": {
  "interpreter": {
   "hash": "ece07da0faa96c9ff331275bc6247bce4a6a2ec3ab4d53c359ec7ebe4ba24cd5"
  },
  "kernelspec": {
   "display_name": "Python 3.9.5 ('jpt_ssf')",
   "name": "python3"
  },
  "language_info": {
   "codemirror_mode": {
    "name": "ipython",
    "version": 3
   },
   "file_extension": ".py",
   "mimetype": "text/x-python",
   "name": "python",
   "nbconvert_exporter": "python",
   "pygments_lexer": "ipython3",
   "version": "3.9.5"
  },
  "orig_nbformat": 4
 },
 "nbformat": 4,
 "nbformat_minor": 2
}
