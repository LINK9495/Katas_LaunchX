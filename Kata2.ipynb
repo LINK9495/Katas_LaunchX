{
 "cells": [
  {
   "cell_type": "markdown",
   "metadata": {},
   "source": [
    "## Entorno Virtual"
   ]
  },
  {
   "cell_type": "code",
   "execution_count": null,
   "metadata": {},
   "outputs": [],
   "source": []
  }
 ],
 "metadata": {
  "interpreter": {
   "hash": "ece07da0faa96c9ff331275bc6247bce4a6a2ec3ab4d53c359ec7ebe4ba24cd5"
  },
  "kernelspec": {
   "display_name": "Python 3.9.5 ('jpt_ssf')",
   "name": "python3"
  },
  "language_info": {
   "name": "python",
   "version": "3.9.5"
  },
  "orig_nbformat": 4
 },
 "nbformat": 4,
 "nbformat_minor": 2
}
