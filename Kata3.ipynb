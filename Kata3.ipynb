{
 "cells": [
  {
   "cell_type": "code",
   "execution_count": null,
   "metadata": {},
   "outputs": [],
   "source": [
    "print('Nos dejaron a cargo de esta mision, determina la velocidad con la que se registra el asteroide.')\n",
    "vel = input()\n",
    "cst = 25\n",
    "print('Un asteroide se acerca, y viaja a una velocidad de '+ str(vel)+ 'Km/s.')\n",
    "print('Determina si se debe enviar una advertencia al planeta tierra.')\n",
    "\n",
    "if int(vel)>cst: \n",
    "     print('¡¡ADVERTENCIA UN ASTEROIDE SE APROXIMA!!')\n",
    "else:\n",
    "    print('Todo esta bien')"
   ]
  },
  {
   "cell_type": "code",
   "execution_count": null,
   "metadata": {},
   "outputs": [],
   "source": [
    "print('Si un asteroide entra en la atmósfera de la Tierra a una velocidad mayor o igual a 20 km/s, a veces produce un rayo de luz que se puede ver desde la Tierra.')\n",
    "vi = input()\n",
    "print('Indica 1 si se ven los rayos de luz')\n",
    "luz = input()\n",
    "\n",
    "if int(vi)>=20 and int(luz)==1:\n",
    "    print(\"¡Se ven los rayos de luz desde la tierra, busquemos el asteroide!\")\n",
    "elif int(vi)>=20:\n",
    "    print(\"¡No se pudieron apreciar los rayos de luz, pero ya debe de estar entrando el asteroide en la atmosfera!\")\n",
    "else :\n",
    "    print(\"¡Despejado, no hay ningun asteroide entrando en la atmosfera!\")"
   ]
  },
  {
   "cell_type": "code",
   "execution_count": null,
   "metadata": {},
   "outputs": [],
   "source": [
    "print('Identifica los asteroides que son un peligro para la tierra.')\n",
    "print('Toma en cuenta que si su dimension es de 25 metros o menos se quemara a medida que entre a la atmosfera y si es mayor a 25 metros impactara en la tierra.')\n",
    "\n",
    "velocidad_asteroide = 25\n",
    "tamano_asteroide = 40\n",
    "if velocidad_asteroide > 25 and tamano_asteroide > 25:\n",
    "    print('¡Alerta, Un asteroide muy peligroso viene hacia la Tierra!')\n",
    "elif velocidad_asteroide >= 20:\n",
    "    print(' Mira arriba! ¡Hay una luz mágica en el cielo!')\n",
    "elif tamano_asteroide < 25:\n",
    "    print('Nada que ver aquí ')\n",
    "else:\n",
    "    print('Nada que ver aquí ')\n",
    "    "
   ]
  }
 ],
 "metadata": {
  "interpreter": {
   "hash": "d6cf1af22e47712e71ddc95f37ed9f9cd951dc0705f1b05259780ec7e3f17d12"
  },
  "kernelspec": {
   "display_name": "Python 3.9.5 64-bit",
   "name": "python3"
  },
  "language_info": {
   "codemirror_mode": {
    "name": "ipython",
    "version": 3
   },
   "file_extension": ".py",
   "mimetype": "text/x-python",
   "name": "python",
   "nbconvert_exporter": "python",
   "pygments_lexer": "ipython3",
   "version": "3.9.5"
  },
  "orig_nbformat": 4
 },
 "nbformat": 4,
 "nbformat_minor": 2
}
