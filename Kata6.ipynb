{
 "cells": [
  {
   "cell_type": "code",
   "execution_count": null,
   "metadata": {},
   "outputs": [],
   "source": [
    "planets = ['tierra' , 'marte' , 'venus' , 'jupiter' , 'neptuno' , 'saturno' , 'mercurio' , 'urano']\n",
    "\n",
    "print(len(planets))\n",
    "\n",
    "planets.append('pluton')\n",
    "\n",
    "print(len(planets))"
   ]
  },
  {
   "cell_type": "code",
   "execution_count": 4,
   "metadata": {},
   "outputs": [
    {
     "name": "stdout",
     "output_type": "stream",
     "text": [
      "['mercurio', 'venus', 'tierra', 'marte', 'jupiter', 'saturno', 'urano', 'neptuno']\n",
      "Here are the planets closer than mercurio\n",
      "[]\n",
      "Here are the planets further than mercurio\n",
      "['venus', 'tierra', 'marte', 'jupiter', 'saturno', 'urano', 'neptuno']\n"
     ]
    }
   ],
   "source": [
    "planet_list = ['mercurio','venus' ,'tierra' , 'marte' , 'jupiter' , 'saturno' , 'urano', 'neptuno']\n",
    "\n",
    "print(planet_list)\n",
    "\n",
    "user_planet = input('Nommbre del planeta')\n",
    "\n",
    "planet_index = planet_list.index(user_planet)\n",
    "\n",
    "print('Here are the planets closer than ' + user_planet)\n",
    "print(planet_list[0:planet_index])\n",
    "\n",
    "print('Here are the planets further than ' + user_planet)\n",
    "print(planet_list[planet_index + 1:])\n",
    "\n",
    "\n",
    "\n",
    "\n"
   ]
  }
 ],
 "metadata": {
  "interpreter": {
   "hash": "d6cf1af22e47712e71ddc95f37ed9f9cd951dc0705f1b05259780ec7e3f17d12"
  },
  "kernelspec": {
   "display_name": "Python 3.9.5 64-bit",
   "name": "python3"
  },
  "language_info": {
   "codemirror_mode": {
    "name": "ipython",
    "version": 3
   },
   "file_extension": ".py",
   "mimetype": "text/x-python",
   "name": "python",
   "nbconvert_exporter": "python",
   "pygments_lexer": "ipython3",
   "version": "3.9.5"
  },
  "orig_nbformat": 4
 },
 "nbformat": 4,
 "nbformat_minor": 2
}
