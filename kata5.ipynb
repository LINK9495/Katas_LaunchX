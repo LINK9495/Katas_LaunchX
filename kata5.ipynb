{
 "cells": [
  {
   "cell_type": "code",
   "execution_count": null,
   "metadata": {},
   "outputs": [],
   "source": [
    "tierra = 149597870\n",
    "jupiter = 778547200\n",
    "dis = tierra - jupiter\n",
    "print(str(abs(dis))+ (' Km/s'))\n",
    "dis_millas = dis * 0.621\n",
    "print(str(abs(dis_millas))+(' millas'))\n",
    "\n"
   ]
  },
  {
   "cell_type": "code",
   "execution_count": null,
   "metadata": {},
   "outputs": [],
   "source": [
    "Dist_pla = {\n",
    "\n",
    "    'mercurio'  : 57900000,\n",
    "    'venus'\t  : 108200000,\n",
    "    'tierra'\t  : 149600000,\n",
    "    'marte'\t  : 227900000,\n",
    "    'jupiter'\t  : 778600000,\n",
    "    'saturno'\t  : 1433500000,\n",
    "    'urano'\t  : 2872500000,\n",
    "    'neptuno'\t  : 4495100000\n",
    "\n",
    "}\n",
    "\n",
    "print((Dist_pla.get))\n",
    "for key in Dist_pla.keys():\n",
    "    print(f'{key}: {Dist_pla[key]} ')"
   ]
  },
  {
   "cell_type": "code",
   "execution_count": 89,
   "metadata": {},
   "outputs": [
    {
     "name": "stdout",
     "output_type": "stream",
     "text": [
      "31236300.0 millas\n"
     ]
    }
   ],
   "source": [
    "planet_check = {\n",
    "\n",
    "      1 : 'mercurio',\n",
    "      2 : 'venus',\n",
    "      3 : 'tierra',\n",
    "      4 : 'marte',\n",
    "      5 : 'jupiter',\n",
    "      6 : 'saturno',\n",
    "      7 : 'urano',\n",
    "      8 : 'neptuno'\n",
    "\n",
    "}\n",
    "\n",
    "planeta_1 = input()\n",
    "\n",
    "if (planeta_1) == (planet_check[1]):\n",
    "    planeta_1 = (Dist_pla['mercurio'])\n",
    "        \n",
    "elif (planeta_1) == (planet_check[2]):\n",
    "    planeta_1 = (Dist_pla['venus'])\n",
    "\n",
    "elif (planeta_1) == (planet_check[3]):\n",
    "    planeta_1 = (Dist_pla['tierra'])\n",
    "\n",
    "elif (planeta_1) == (planet_check[4]):\n",
    "    planeta_1 = (Dist_pla['marte'])\n",
    "\n",
    "elif (planeta_1) == (planet_check[5]):\n",
    "    planeta_1 = (Dist_pla['jupiter'])\n",
    "\n",
    "elif (planeta_1) == (planet_check[6]):\n",
    "    planeta_1 = (Dist_pla['saturno'])\n",
    "\n",
    "elif (planeta_1) == (planet_check[7]):\n",
    "    planeta_1 = (Dist_pla['urano'])\n",
    "\n",
    "elif (planeta_1) == (planet_check[8]):\n",
    "    planeta_1 = (Dist_pla['neptuno'])\n",
    "\n",
    "else :\n",
    "    print('No coincide con los datos.')\n",
    "\n",
    "planeta_2 = input()\n",
    "\n",
    "if (planeta_2) == (planet_check[1]):\n",
    "    planeta_2 = (Dist_pla['mercurio'])\n",
    "\n",
    "elif (planeta_2) == (planet_check[2]):\n",
    "    planeta_2 = (Dist_pla['venus'])\n",
    "\n",
    "elif (planeta_2) == (planet_check[3]):\n",
    "    planeta_2 = (Dist_pla['tierra'])\n",
    "\n",
    "elif (planeta_2) == (planet_check[4]):\n",
    "    planeta_2 = (Dist_pla['marte'])\n",
    "\n",
    "elif (planeta_2) == (planet_check[5]):\n",
    "    planeta_2 = (Dist_pla['jupiter'])\n",
    "\n",
    "elif (planeta_2) == (planet_check[6]):\n",
    "    planeta_2 = (Dist_pla['saturno'])\n",
    "\n",
    "elif (planeta_2) == (planet_check[7]):\n",
    "    planeta_2 = (Dist_pla['urano'])\n",
    "\n",
    "elif (planeta_2) == (planet_check[8]):\n",
    "    planeta_2 = (Dist_pla['neptuno'])\n",
    "\n",
    "else :\n",
    "    print('No coincide con los datos.')\n",
    "\n",
    "resultado_f = abs(planeta_1-planeta_2)*.621\n",
    "\n",
    "print(str(resultado_f)+ ' millas')\n",
    "\n"
   ]
  }
 ],
 "metadata": {
  "interpreter": {
   "hash": "d6cf1af22e47712e71ddc95f37ed9f9cd951dc0705f1b05259780ec7e3f17d12"
  },
  "kernelspec": {
   "display_name": "Python 3.9.5 64-bit",
   "name": "python3"
  },
  "language_info": {
   "codemirror_mode": {
    "name": "ipython",
    "version": 3
   },
   "file_extension": ".py",
   "mimetype": "text/x-python",
   "name": "python",
   "nbconvert_exporter": "python",
   "pygments_lexer": "ipython3",
   "version": "3.9.5"
  },
  "orig_nbformat": 4
 },
 "nbformat": 4,
 "nbformat_minor": 2
}
